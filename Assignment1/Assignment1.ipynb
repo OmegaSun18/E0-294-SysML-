{
 "cells": [
  {
   "cell_type": "code",
   "execution_count": 1,
   "metadata": {},
   "outputs": [],
   "source": [
    "import random\n",
    "from typing import List, Tuple"
   ]
  },
  {
   "cell_type": "code",
   "execution_count": 2,
   "metadata": {},
   "outputs": [],
   "source": [
    "# CONSTANTS\n",
    "N = 8 # Batch Size\n",
    "C = 4 # Number of input maps/filters channels\n",
    "H = W = M = 32 # input map height and width, number of output maps/filters\n",
    "R = S = 5 # Filter height and width\n",
    "U = 2 # Stride Length\n",
    "E = F = 14 # output map height and width"
   ]
  },
  {
   "cell_type": "code",
   "execution_count": 3,
   "metadata": {},
   "outputs": [],
   "source": [
    "def create_arrays() -> Tuple[List[List[List[List[float]]]]]:\n",
    "    \"\"\"Creates the input maps and the filter maps\"\"\"\n",
    "    inputMaps = [[[[0 for itr4 in range(H)] for itr3 in range(W)] for itr2 in range(C)] for itr1 in range(N)]\n",
    "    helper = [1, -1]\n",
    "    filterWeights = [[[[0 for itr4 in range(R)] for itr3 in range(S)] for itr2 in range(C)] for itr1 in range(M)]\n",
    "    for itr1 in range(N):\n",
    "        for itr2 in range(C):\n",
    "            for itr3 in range(W):\n",
    "                for itr4 in range(H):\n",
    "                    rand = random.random()\n",
    "                    multiplier = random.choice(helper)\n",
    "                    inputMaps[itr1][itr2][itr3][itr4] = (rand*multiplier)\n",
    "    for itr1 in range(M):\n",
    "        for itr2 in range(C):\n",
    "            for itr3 in range(S):\n",
    "                for itr4 in range(R):\n",
    "                    rand = random.random()\n",
    "                    multiplier = random.choice(helper)\n",
    "                    filterWeights[itr1][itr2][itr3][itr4] = (rand*multiplier)\n",
    "    return inputMaps, filterWeights"
   ]
  },
  {
   "cell_type": "code",
   "execution_count": 4,
   "metadata": {},
   "outputs": [],
   "source": [
    "inputMaps, filterWeights = create_arrays()"
   ]
  },
  {
   "cell_type": "code",
   "execution_count": 5,
   "metadata": {},
   "outputs": [],
   "source": [
    "def naiveConvolution(inputMaps: List[List[List[List[float]]]], filterWeights: List[List[List[List[float]]]]) -> List[List[List[List[float]]]]:\n",
    "    \"\"\"Performs a naive convolution given the input maps and the filter weights\"\"\"\n",
    "    outputMapsNaive = [[[[0 for itr4 in range(E)] for itr3 in range(F)] for itr2 in range(M)] for itr1 in range(N)]\n",
    "    for n in range(N):\n",
    "        for m in range(M):\n",
    "            for x in range(F):\n",
    "                for y in range(E):\n",
    "                    for i in range(R):\n",
    "                        for j in range(S):\n",
    "                            for k in range(C):\n",
    "                                outputMapsNaive[n][m][x][y] += inputMaps[n][k][U*x + i][U*y + j] * filterWeights[m][k][i][j]\n",
    "    return outputMapsNaive"
   ]
  },
  {
   "cell_type": "code",
   "execution_count": 6,
   "metadata": {},
   "outputs": [],
   "source": [
    "outputMapsNaive = naiveConvolution(inputMaps, filterWeights)"
   ]
  },
  {
   "cell_type": "code",
   "execution_count": 7,
   "metadata": {},
   "outputs": [],
   "source": [
    "def filterWeightstoToeplitz(filterWeights: List[List[List[List[float]]]]) -> List[List[float]]:\n",
    "    \"\"\"Converts the filter weights matrix from a 4D matrix to its toeplitz form\"\"\"\n",
    "    filterWeightsforToeplitz = [[] for itr1 in range(M)]\n",
    "    for m in range(M):\n",
    "        temp = [0 for i in range(C*R*S)]\n",
    "        innerCtr = 0\n",
    "        for i in range(R):\n",
    "            for j in range(S):\n",
    "                for k in range(C):\n",
    "                    temp[R*S*k + innerCtr] = filterWeights[m][k][i][j]\n",
    "                innerCtr += 1\n",
    "        filterWeightsforToeplitz[m] = temp\n",
    "    return filterWeightsforToeplitz"
   ]
  },
  {
   "cell_type": "code",
   "execution_count": 8,
   "metadata": {},
   "outputs": [],
   "source": [
    "def inputMapstoToeplitz(inputMaps: List[List[List[List[float]]]]) -> List[List[float]]:\n",
    "    \"\"\"Converts the input maps from a 4D matrix to its toeplitz form\"\"\"\n",
    "    inputMapsforToeplitz = [[] for itr2 in range(int(N*E*F))]\n",
    "    outerCtr = 0\n",
    "    for n in range(N):\n",
    "        for y in range(E):\n",
    "            for x in range(F):\n",
    "                temp = [0 for itr in range(C*R*S)]\n",
    "                innerCtr = 0\n",
    "                for i in range(R):\n",
    "                    for j in range(S):\n",
    "                        for k in range(C):\n",
    "                            temp[R*S*k + innerCtr] = inputMaps[n][k][U*x + i][U*y + j]\n",
    "                        innerCtr += 1\n",
    "                inputMapsforToeplitz[outerCtr] = temp\n",
    "                outerCtr += 1\n",
    "    return inputMapsforToeplitz"
   ]
  },
  {
   "cell_type": "code",
   "execution_count": 9,
   "metadata": {},
   "outputs": [],
   "source": [
    "inputMapsforToeplitz = inputMapstoToeplitz(inputMaps)\n",
    "filterWeightsforToeplitz = filterWeightstoToeplitz(filterWeights)"
   ]
  },
  {
   "cell_type": "code",
   "execution_count": 10,
   "metadata": {},
   "outputs": [],
   "source": [
    "def toeplitzConvolution(inputMapsforToeplitz: List[List[float]], filterWeightsforToeplitz: List[List[float]]) -> List[List[float]]:\n",
    "    \"\"\"Performs convolution(Matrix Multiplication) on the input maps and filter weights shaped in the toeplitz format\"\"\"\n",
    "    outputMapsforToeplitz = [[] for itr1 in range(M)]\n",
    "    for m in range(M):\n",
    "        temp = [0 for itr in range(N*F*E)]\n",
    "        for i in range(N*F*E):\n",
    "            for j in range(C*S*R):\n",
    "                temp[i] += inputMapsforToeplitz[i][j] * filterWeightsforToeplitz[m][j]\n",
    "        outputMapsforToeplitz[m] = temp\n",
    "    return outputMapsforToeplitz"
   ]
  },
  {
   "cell_type": "code",
   "execution_count": 11,
   "metadata": {},
   "outputs": [],
   "source": [
    "outputMapsforToeplitz = toeplitzConvolution(inputMapsforToeplitz, filterWeightsforToeplitz)"
   ]
  },
  {
   "cell_type": "code",
   "execution_count": 12,
   "metadata": {},
   "outputs": [],
   "source": [
    "def convertOutputMaps(outputMapsNaive: List[List[List[List[float]]]]) -> List[List[float]]:\n",
    "    \"\"\"Converts the naive convolution output maps(4D matrix) to a 2D matrix for comparison with the toeplitz convolution method\"\"\"\n",
    "    convertedOutputMaps = [[] for itr1 in range(M)]\n",
    "    for m in range(M):\n",
    "        temp = [0 for itr in range(N*F*E)]\n",
    "        ctr = 0\n",
    "        for n in range(N):\n",
    "            for y in range(E):\n",
    "                for x in range(F):\n",
    "                    temp[ctr] = outputMapsNaive[n][m][x][y]\n",
    "                    ctr += 1\n",
    "        convertedOutputMaps[m] = temp\n",
    "    return convertedOutputMaps"
   ]
  },
  {
   "cell_type": "code",
   "execution_count": 13,
   "metadata": {},
   "outputs": [],
   "source": [
    "convertedOutputMaps = convertOutputMaps(outputMapsNaive)"
   ]
  },
  {
   "cell_type": "code",
   "execution_count": 14,
   "metadata": {},
   "outputs": [],
   "source": [
    "def comparison(outputMapsforToeplitz: List[List[float]], convertedOutputMaps: List[List[float]]) -> str:\n",
    "    \"\"\"Iterates through the two output matrices for both the methods and checks if both elements are the same.\n",
    "    It checks with a toleraance of 1e-13 as python rounding may give two outputs which differ at the 14th decimal or so.\"\"\"\n",
    "    ctr = 0\n",
    "    tol = 1e-13\n",
    "    for itr1 in range(M):\n",
    "        for itr2 in range(len(outputMapsforToeplitz[0])):\n",
    "            if abs(outputMapsforToeplitz[itr1][itr2] - convertedOutputMaps[itr1][itr2]) > tol:\n",
    "                ctr += 1\n",
    "    if ctr == 0:\n",
    "        return \"The two methods produce the same outputs.\"\n",
    "    return \"The two methods don't produce the same outputs.\""
   ]
  },
  {
   "cell_type": "code",
   "execution_count": 15,
   "metadata": {},
   "outputs": [
    {
     "name": "stdout",
     "output_type": "stream",
     "text": [
      "The two methods produce the same outputs.\n"
     ]
    }
   ],
   "source": [
    "print(comparison(outputMapsforToeplitz, convertedOutputMaps))"
   ]
  }
 ],
 "metadata": {
  "kernelspec": {
   "display_name": "base",
   "language": "python",
   "name": "python3"
  },
  "language_info": {
   "codemirror_mode": {
    "name": "ipython",
    "version": 3
   },
   "file_extension": ".py",
   "mimetype": "text/x-python",
   "name": "python",
   "nbconvert_exporter": "python",
   "pygments_lexer": "ipython3",
   "version": "3.12.2"
  }
 },
 "nbformat": 4,
 "nbformat_minor": 2
}
